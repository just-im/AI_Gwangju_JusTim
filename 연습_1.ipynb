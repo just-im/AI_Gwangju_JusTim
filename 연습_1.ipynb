{
  "nbformat": 4,
  "nbformat_minor": 0,
  "metadata": {
    "colab": {
      "name": "연습 1.ipynb",
      "provenance": [],
      "authorship_tag": "ABX9TyPfmCoSnVNSmJibOZTlTQkT",
      "include_colab_link": true
    },
    "kernelspec": {
      "name": "python3",
      "display_name": "Python 3"
    }
  },
  "cells": [
    {
      "cell_type": "markdown",
      "metadata": {
        "id": "view-in-github",
        "colab_type": "text"
      },
      "source": [
        "<a href=\"https://colab.research.google.com/github/just-im/AI_Gwangju_JusTim/blob/master/%EC%97%B0%EC%8A%B5_1.ipynb\" target=\"_parent\"><img src=\"https://colab.research.google.com/assets/colab-badge.svg\" alt=\"Open In Colab\"/></a>"
      ]
    },
    {
      "cell_type": "markdown",
      "metadata": {
        "id": "Tmya8WY5O8eh",
        "colab_type": "text"
      },
      "source": [
        "텍스트 셀"
      ]
    },
    {
      "cell_type": "code",
      "metadata": {
        "id": "3zzJ8m7fOzZ7",
        "colab_type": "code",
        "colab": {
          "base_uri": "https://localhost:8080/",
          "height": 34
        },
        "outputId": "344f5742-45ad-4aac-ea6a-5178c42ae4ce"
      },
      "source": [
        "print(\"코드 셀\")"
      ],
      "execution_count": 1,
      "outputs": [
        {
          "output_type": "stream",
          "text": [
            "코드 셀\n"
          ],
          "name": "stdout"
        }
      ]
    },
    {
      "cell_type": "code",
      "metadata": {
        "id": "KuDf9YKQPMs8",
        "colab_type": "code",
        "colab": {}
      },
      "source": [
        "# 제목"
      ],
      "execution_count": 0,
      "outputs": []
    },
    {
      "cell_type": "code",
      "metadata": {
        "id": "CnPcIvfwPzIE",
        "colab_type": "code",
        "colab": {}
      },
      "source": [
        ""
      ],
      "execution_count": 0,
      "outputs": []
    }
  ]
}